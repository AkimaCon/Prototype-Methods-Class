{
 "cells": [
  {
   "cell_type": "markdown",
   "metadata": {},
   "source": [
    "# Import and setup"
   ]
  },
  {
   "cell_type": "code",
   "execution_count": 15,
   "metadata": {},
   "outputs": [
    {
     "name": "stdout",
     "output_type": "stream",
     "text": [
      "arduino connected!!\n"
     ]
    }
   ],
   "source": [
    "from pylsl import StreamInfo, StreamInlet, StreamOutlet, resolve_stream\n",
    "\n",
    "# Imports\n",
    "import numpy as np\n",
    "from tqdm import tqdm #loop progress bar\n",
    "from scipy.io import loadmat #Loads in .mat File\n",
    "import pandas as pd # To load in EEG data\n",
    "\n",
    "import jupyter_beeper #Beep sound\n",
    "\n",
    "import pyfirmata\n",
    "import time\n",
    "\n",
    "board = pyfirmata.Arduino('/dev/cu.usbmodem14301')\n",
    "print('arduino connected!!')\n",
    "for i in range(5):\n",
    "    board.digital[13].write(1)\n",
    "    time.sleep(1)\n",
    "    board.digital[13].write(0)\n",
    "    time.sleep(1)\n"
   ]
  },
  {
   "cell_type": "markdown",
   "metadata": {},
   "source": [
    "# EMG data stream"
   ]
  },
  {
   "cell_type": "code",
   "execution_count": 21,
   "metadata": {},
   "outputs": [
    {
     "name": "stdout",
     "output_type": "stream",
     "text": [
      "Finding Stream...\n",
      "Found Stream\n"
     ]
    }
   ],
   "source": [
    "eeg_id = 'openbcieeg12345'\n",
    "\n",
    "print('Finding Stream...')\n",
    "stream = resolve_stream('name', 'obci_eeg1')\n",
    "inlet = StreamInlet(stream[0])\n",
    "print('Found Stream')"
   ]
  },
  {
   "cell_type": "markdown",
   "metadata": {},
   "source": [
    "## EMG data stream test"
   ]
  },
  {
   "cell_type": "code",
   "execution_count": 6,
   "metadata": {
    "collapsed": true,
    "jupyter": {
     "outputs_hidden": true
    }
   },
   "outputs": [
    {
     "name": "stdout",
     "output_type": "stream",
     "text": [
      "0.13377675907462105\n",
      "movement detected\n",
      "movement detected\n",
      "movement detected\n",
      "movement detected\n",
      "movement detected\n",
      "movement detected\n",
      "movement detected\n",
      "movement detected\n",
      "movement detected\n",
      "movement detected\n",
      "movement detected\n",
      "movement detected\n",
      "movement detected\n",
      "movement detected\n",
      "movement detected\n",
      "movement detected\n",
      "movement detected\n",
      "movement detected\n",
      "movement detected\n",
      "movement detected\n",
      "movement detected\n",
      "movement detected\n",
      "movement detected\n",
      "movement detected\n",
      "movement detected\n",
      "movement detected\n",
      "movement detected\n"
     ]
    },
    {
     "ename": "IndexError",
     "evalue": "index 0 is out of bounds for axis 0 with size 0",
     "output_type": "error",
     "traceback": [
      "\u001b[0;31m---------------------------------------------------------------------------\u001b[0m",
      "\u001b[0;31mIndexError\u001b[0m                                Traceback (most recent call last)",
      "\u001b[0;32m<ipython-input-6-52d215fffbd9>\u001b[0m in \u001b[0;36m<module>\u001b[0;34m\u001b[0m\n\u001b[1;32m      4\u001b[0m \u001b[0;32mwhile\u001b[0m \u001b[0;36m1\u001b[0m\u001b[0;34m:\u001b[0m\u001b[0;34m\u001b[0m\u001b[0;34m\u001b[0m\u001b[0m\n\u001b[1;32m      5\u001b[0m     \u001b[0memg\u001b[0m\u001b[0;34m,\u001b[0m\u001b[0mt\u001b[0m \u001b[0;34m=\u001b[0m \u001b[0minlet\u001b[0m\u001b[0;34m.\u001b[0m\u001b[0mpull_chunk\u001b[0m\u001b[0;34m(\u001b[0m\u001b[0mtimeout\u001b[0m\u001b[0;34m=\u001b[0m\u001b[0;36m0.25\u001b[0m\u001b[0;34m)\u001b[0m\u001b[0;34m\u001b[0m\u001b[0;34m\u001b[0m\u001b[0m\n\u001b[0;32m----> 6\u001b[0;31m     \u001b[0memg\u001b[0m \u001b[0;34m=\u001b[0m \u001b[0mnp\u001b[0m\u001b[0;34m.\u001b[0m\u001b[0mmean\u001b[0m\u001b[0;34m(\u001b[0m\u001b[0mnp\u001b[0m\u001b[0;34m.\u001b[0m\u001b[0marray\u001b[0m\u001b[0;34m(\u001b[0m\u001b[0memg\u001b[0m\u001b[0;34m)\u001b[0m\u001b[0;34m.\u001b[0m\u001b[0mT\u001b[0m\u001b[0;34m[\u001b[0m\u001b[0;36m0\u001b[0m\u001b[0;34m]\u001b[0m\u001b[0;34m)\u001b[0m\u001b[0;34m\u001b[0m\u001b[0;34m\u001b[0m\u001b[0m\n\u001b[0m\u001b[1;32m      7\u001b[0m     \u001b[0;32mif\u001b[0m \u001b[0memg\u001b[0m \u001b[0;34m>=\u001b[0m \u001b[0mbaseline\u001b[0m\u001b[0;34m+\u001b[0m\u001b[0;36m0.2\u001b[0m\u001b[0;34m:\u001b[0m\u001b[0;34m\u001b[0m\u001b[0;34m\u001b[0m\u001b[0m\n\u001b[1;32m      8\u001b[0m         \u001b[0mprint\u001b[0m\u001b[0;34m(\u001b[0m\u001b[0;34m'movement detected'\u001b[0m\u001b[0;34m)\u001b[0m\u001b[0;34m\u001b[0m\u001b[0;34m\u001b[0m\u001b[0m\n",
      "\u001b[0;31mIndexError\u001b[0m: index 0 is out of bounds for axis 0 with size 0"
     ]
    }
   ],
   "source": [
    "c,t = inlet.pull_chunk(timeout=2)\n",
    "c = np.array(c).T[0]\n"
   ]
  },
  {
   "cell_type": "markdown",
   "metadata": {},
   "source": [
    "# Prototype Code"
   ]
  },
  {
   "cell_type": "markdown",
   "metadata": {},
   "source": [
    "## Start prototype\n",
    "jaw clentch command\n",
    "> 2 clentch: activate\n",
    "> 3 or more: deactivate\n",
    "\n",
    "Other options:\n",
    "> adjust strength based on strength of clentch \n",
    "    > (current/max_clentch) * 1\n",
    "    > Max = 1\n",
    "    > Min = 0"
   ]
  },
  {
   "cell_type": "code",
   "execution_count": 55,
   "metadata": {},
   "outputs": [],
   "source": [
    "pin3 = board.get_pin('d:3:p')\n",
    "# pin5 = board.get_pin('d:5:p')\n",
    "\n",
    "pin5 = board.get_pin('d:5:p')\n",
    "pin6 = board.get_pin('d:6:p')\n",
    "pin9 = board.get_pin('d:9:p')\n",
    "pin11 = board.get_pin('d:11:p')"
   ]
  },
  {
   "cell_type": "code",
   "execution_count": null,
   "metadata": {},
   "outputs": [
    {
     "data": {
      "text/html": [
       "<div style=\"display:none\">\n",
       "                <audio onended=\"this.parentNode.removeChild(this)\"  controls=\"controls\" autoplay=\"autoplay\">\n",
       "                    <source src=\"data:audio/wav;base64,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\" type=\"audio/wav\" />\n",
       "                    Your browser does not support the audio element.\n",
       "                </audio>\n",
       "              </div>"
      ],
      "text/plain": [
       "<jupyter_beeper.Beeper.InvisibleAudio object>"
      ]
     },
     "metadata": {},
     "output_type": "display_data"
    },
    {
     "name": "stdout",
     "output_type": "stream",
     "text": [
      "1 0.386396199464798\n",
      "2 0.38497194647789\n",
      "3 0.9832583069801331\n",
      "W\n",
      "1 1.0\n",
      "1 1.0\n",
      "2 0.8149373531341553\n",
      "3 0.7682231068611145\n",
      "W\n",
      "1 1.0\n",
      "1 1.0\n",
      "2 1.0\n",
      "3 0.7600296139717102\n",
      "4 1.0\n",
      "5 0.8922858238220215\n",
      "6 0.7935304045677185\n",
      "W\n",
      "1 0.6707481741905212\n",
      "1 0.895986020565033\n",
      "2 0.642082154750824\n",
      "3 0.6960173845291138\n",
      "W\n",
      "1 1.0\n",
      "1 0.9938427805900574\n",
      "2 0.6295126676559448\n",
      "movement detected\n",
      "R\n",
      "1 0.9995296597480774\n",
      "2 0.9860287308692932\n",
      "movement detected\n",
      "R\n",
      "1 0.38636675477027893\n",
      "2 0.8188082575798035\n",
      "3 0.9850791096687317\n",
      "4 0.9027091264724731\n",
      "W\n",
      "1 1.0\n",
      "2 0.5980629920959473\n",
      "movement detected\n",
      "R\n",
      "1 0.7534964084625244\n"
     ]
    }
   ],
   "source": [
    "# c,t = inlet.pull_chunk(timeout=2)\n",
    "# baseline = np.mean(np.array(c).T[0])\n",
    "# print(baseline)\n",
    "func_start = False\n",
    "func_timeout = False\n",
    "command_count = 0\n",
    "time_thres = 1000\n",
    "prev_time = 0\n",
    "flex_thres = 0.3\n",
    "count = 0\n",
    "light = 0\n",
    "b = jupyter_beeper.Beeper()\n",
    "# \n",
    "\n",
    "\n",
    "# pin3.write(0.6)\n",
    "while 1:\n",
    "    samples, timestamp = inlet.pull_sample() # get EMG data sample and its timestamp\n",
    "\n",
    "    curr_time = int(round(time.time() * 1000)) # get current time in milliseconds\n",
    "\n",
    "\n",
    "    if ((samples[0] >=  flex_thres) & (curr_time - time_thres > prev_time)): # if an EMG spike is detected from the cheek muscles send 'G'\n",
    "        prev_time = int(round(time.time() * 1000)) # update time\n",
    "#         ser.write(b'Y') \n",
    "        command_count = command_count+1\n",
    "        light = samples[0]\n",
    "        b.beep(frequency=730, secs=0.1, blocking=True)\n",
    "        if command_count == 1:\n",
    "            pin5.write(1)\n",
    "        elif command_count == 2:\n",
    "            pin6.write(1)\n",
    "        elif command_count == 3:\n",
    "            pin9.write(1)\n",
    "            \n",
    "        print(command_count,light)\n",
    "    # when timeout from jaw clentch command\n",
    "    elif(curr_time - time_thres > prev_time): # if no spike is detected send 'B' \n",
    "        prev_time = int(round(time.time() * 1000)) # update time\n",
    "        # 3 count mean on\n",
    "        if command_count == 2:\n",
    "            print('movement detected')\n",
    "            pin3.write(1)\n",
    "            print('R')\n",
    "            b.beep(frequency=930, secs=0.1, blocking=True)\n",
    "            pin11.write(1)\n",
    "            time.sleep(1)\n",
    "            pin5.write(0)\n",
    "            pin6.write(0)\n",
    "            pin9.write(0)\n",
    "            pin11.write(0)\n",
    "\n",
    "\n",
    "    #             board.digital[13].write(0)\n",
    "    #             time.sleep(1)\n",
    "\n",
    "        # 4 or more mean deactivate\n",
    "        elif command_count > 2:\n",
    "            board.digital[3].write(0)\n",
    "            print('W')\n",
    "            b.beep(frequency=930, secs=0.1, blocking=True)\n",
    "            pin11.write(1)\n",
    "            time.sleep(1)\n",
    "            pin5.write(0)\n",
    "            pin6.write(0)\n",
    "            pin9.write(0)\n",
    "            pin11.write(0)\n",
    "            \n",
    "        elif command_count == 1:\n",
    "            b.beep(frequency=530, secs=0.1, blocking=True)\n",
    "            pin11.write(1)\n",
    "            time.sleep(1)\n",
    "            pin5.write(0)\n",
    "            pin6.write(0)\n",
    "            pin9.write(0)\n",
    "            pin11.write(0)\n",
    "\n",
    "\n",
    "        #reset variables\n",
    "        func_timeout = False\n",
    "        command_count = 0\n",
    "        func_start = False\n"
   ]
  }
 ],
 "metadata": {
  "kernelspec": {
   "display_name": "Python 3",
   "language": "python",
   "name": "python3"
  },
  "language_info": {
   "codemirror_mode": {
    "name": "ipython",
    "version": 3
   },
   "file_extension": ".py",
   "mimetype": "text/x-python",
   "name": "python",
   "nbconvert_exporter": "python",
   "pygments_lexer": "ipython3",
   "version": "3.8.5"
  }
 },
 "nbformat": 4,
 "nbformat_minor": 4
}
